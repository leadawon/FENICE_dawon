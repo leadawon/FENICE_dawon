{
 "cells": [
  {
   "cell_type": "code",
   "execution_count": 1,
   "metadata": {},
   "outputs": [],
   "source": [
    "%%capture\n",
    "import os\n",
    "os.environ[\"CUDA_VISIBLE_DEVICES\"] = \"2\"\n",
    "import json\n",
    "from metric.FENICE import FENICE\n",
    "import time\n",
    "fenice = FENICE()\n",
    "\n",
    "# Load the xsumfaith.json file\n",
    "with open('../dawon_org/cogensumm_short.json', 'r', encoding=\"utf-8\") as f:\n",
    "    cogensumm_data = json.load(f)\n",
    "cogensumm_data = cogensumm_data#[88:]\n",
    "# JSON 파일을 새로 생성 (초기화)\n",
    "with open('../results/cogensumm/fenice_rouge_sbert_no_discards.json', 'w', encoding=\"utf-8\") as f:\n",
    "    f.write(\"[\\n\")  # JSON 배열 시작\n",
    "# Compute the scores for each document-summary pair\n",
    "for i, item in enumerate(cogensumm_data):\n",
    "    batch = [{\"document\": item[\"document\"], \"summary\": item[\"claim\"]}]\n",
    "    result = fenice.score_batch(batch)\n",
    "\n",
    "    # 저장할 데이터 구조\n",
    "    result_entry = {\n",
    "        \"score\": result[0][\"score\"],\n",
    "        \"label\": item[\"label\"],\n",
    "        \"document\": item[\"document\"],\n",
    "        \"summary\": item[\"claim\"]\n",
    "    }\n",
    "\n",
    "    # JSON 파일에 한 줄씩 추가 (마지막 요소인지 확인하여 쉼표 처리)\n",
    "    with open('../results/cogensumm/fenice_rouge_sbert_no_discards.json', 'a', encoding=\"utf-8\") as f:\n",
    "        json.dump(result_entry, f, indent=4)\n",
    "        if i < len(cogensumm_data) - 1:  # 마지막 요소가 아니면 쉼표 추가\n",
    "            f.write(\",\\n\")\n",
    "\n",
    "# JSON 파일 닫기 (배열 닫기)\n",
    "with open('../results/cogensumm/fenice_rouge_sbert_no_discards.json', 'a', encoding=\"utf-8\") as f:\n",
    "    f.write(\"\\n]\")\n",
    "\n",
    "print(\"Results saved to fenice_original.json\")\n"
   ]
  }
 ],
 "metadata": {
  "kernelspec": {
   "display_name": "FENICERSBvenv",
   "language": "python",
   "name": "fenicersbvenv"
  },
  "language_info": {
   "codemirror_mode": {
    "name": "ipython",
    "version": 3
   },
   "file_extension": ".py",
   "mimetype": "text/x-python",
   "name": "python",
   "nbconvert_exporter": "python",
   "pygments_lexer": "ipython3",
   "version": "3.10.14"
  }
 },
 "nbformat": 4,
 "nbformat_minor": 2
}
