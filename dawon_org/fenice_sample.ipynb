{
 "cells": [
  {
   "cell_type": "code",
   "execution_count": null,
   "metadata": {},
   "outputs": [
    {
     "name": "stderr",
     "output_type": "stream",
     "text": [
      "/workspace/venvs/FENICEvenv/lib/python3.10/site-packages/tqdm/auto.py:21: TqdmWarning: IProgress not found. Please update jupyter and ipywidgets. See https://ipywidgets.readthedocs.io/en/stable/user_install.html\n",
      "  from .autonotebook import tqdm as notebook_tqdm\n"
     ]
    },
    {
     "name": "stdout",
     "output_type": "stream",
     "text": [
      "venv에서 score_batch함수에서 self.cache 시작한다.\n"
     ]
    },
    {
     "name": "stderr",
     "output_type": "stream",
     "text": [
      "splitting document batches into sentences: 100%|██████████| 1/1 [00:00<00:00, 18.82it/s]\n",
      "/workspace/venvs/FENICEvenv/lib/python3.10/site-packages/huggingface_hub/file_download.py:797: FutureWarning: `resume_download` is deprecated and will be removed in version 1.0.0. Downloads always resume when possible. If you want to force a new download, use `force_download=True`.\n",
      "  warnings.warn(\n",
      "Special tokens have been added in the vocabulary, make sure the associated word embeddings are fine-tuned or trained.\n",
      "Extracting claims...: 100%|██████████| 1/1 [00:02<00:00,  2.17s/it]\n"
     ]
    },
    {
     "name": "stdout",
     "output_type": "stream",
     "text": [
      "cache_claims 함수끝남\n",
      "venv에서 cache함수에서서 self.cache_alignments 시작한다.\n",
      "venv에서 cache_alignments함수에서 NLIAligner 시작한다.\n",
      "32 이게 nli batch size이다.\n"
     ]
    },
    {
     "name": "stderr",
     "output_type": "stream",
     "text": [
      "Computing alignments...: 100%|██████████| 16/16 [00:04<00:00,  3.51it/s]\n",
      "Computing alignments...: 100%|██████████| 7/7 [00:00<00:00,  7.55it/s]\n",
      "Computing FENICE...: 100%|██████████| 1/1 [00:00<00:00,  9.73it/s]"
     ]
    },
    {
     "name": "stdout",
     "output_type": "stream",
     "text": [
      "[{'score': 0.848409522183439, 'alignments': [{'score': 0.9968091829214245, 'summary_claim': 'Simone Biles made a triumphant return to the Olympic stage at the Paris 2024 Games.', 'source_passage': '\\nSimone Biles’ Olympic return is off to a sparkling start at Paris 2024 as the Americans competed in women’s qualifying Sunday (28 July). The U.S. is well in front with a total team score of 172.296, followed by Italy some 5.435 points back at 166.861. The People’s Republic of China is third with a 166.628.\\n\\n Reigning world silver medallists Brazil competed in the day’s final subdivision and sit fourth (166.499). In the all-around, Biles, the 2016 gold medallist, scored 59.566 ahead of 2022 world all-around champion Rebeca Andrade (57.700).'}, {'score': 0.9985068442765623, 'summary_claim': 'Biles competed in the women’s gymnastics qualifications.', 'source_passage': '\\nSimone Biles’ Olympic return is off to a sparkling start at Paris 2024 as the Americans competed in women’s qualifying Sunday (28 July). The U.S. is well in front with a total team score of 172.296, followed by Italy some 5.435 points back at 166.861. The People’s Republic of China is third with a 166.628.\\n\\n Reigning world silver medallists Brazil competed in the day’s final subdivision and sit fourth (166.499). In the all-around, Biles, the 2016 gold medallist, scored 59.566 ahead of 2022 world all-around champion Rebeca Andrade (57.700).'}, {'score': 0.9983009047573432, 'summary_claim': \"Biles overcame a previous struggle with the 'twisties' that led to her withdrawal from events at the Tokyo 2020 Olympics.\", 'source_passage': 'Three years ago, the American withdrew from the women’s team final and four subsequent individual finals at Tokyo 2020 to prioritize her mental health as she dealt with the ‘twisties.’ That seemed like a distant memory Sunday.\\n\\n Biles, 27, entered Bercy Arena to massive applause, looking relaxed as she smiled and waved to the audience. She looked even more relaxed on the balance beam where in the span of some 79 seconds, she put on a clinic, executing a near flawless routine that included a two layout stepout series and a full-twisting double back dismount. Biles earned a 14.733 for the routine.\\n\\n'}, {'score': 0.9821975566446781, 'summary_claim': 'Biles dazzled with strong performances on all apparatus.', 'source_passage': 'DOCUMENT'}, {'score': 0.9991946243681014, 'summary_claim': 'The U.S. team secured a commanding lead in the qualifications.', 'source_passage': '\\nSimone Biles’ Olympic return is off to a sparkling start at Paris 2024 as the Americans competed in women’s qualifying Sunday (28 July). The U.S. is well in front with a total team score of 172.296, followed by Italy some 5.435 points back at 166.861. The People’s Republic of China is third with a 166.628.\\n\\n Reigning world silver medallists Brazil competed in the day’s final subdivision and sit fourth (166.499). In the all-around, Biles, the 2016 gold medallist, scored 59.566 ahead of 2022 world all-around champion Rebeca Andrade (57.700).'}, {'score': 0.9942512090783566, 'summary_claim': 'Her routines showcased her resilience and skill.', 'source_passage': 'DOCUMENT'}, {'score': -0.030393666762392968, 'summary_claim': 'Her routines drew enthusiastic support from a star-studded audience.', 'source_passage': 'Three years ago, the American withdrew from the women’s team final and four subsequent individual finals at Tokyo 2020 to prioritize her mental health as she dealt with the ‘twisties.’'}]}]\n"
     ]
    },
    {
     "name": "stderr",
     "output_type": "stream",
     "text": [
      "\n"
     ]
    },
    {
     "data": {
      "text/plain": [
       "[{'score': 0.8484095427307433,\n",
       "  'alignments': [{'score': 0.9968091815244406,\n",
       "    'summary_claim': 'Simone Biles made a triumphant return to the Olympic stage at the Paris 2024 Games.',\n",
       "    'source_passage': '\\n        Simone Biles’ Olympic return is off to a sparkling start at Paris 2024 as the Americans competed in women’s qualifying Sunday (28 July). The U.S. is well in front with a total team score of 172.296, followed by Italy some 5.435 points back at 166.861. The People’s Republic of China is third with a 166.628.\\n    \\n         Reigning world silver medallists Brazil competed in the day’s final subdivision and sit fourth (166.499). In the all-around, Biles, the 2016 gold medallist, scored 59.566 ahead of 2022 world all-around champion Rebeca Andrade (57.700).'},\n",
       "   {'score': 0.9985068442765623,\n",
       "    'summary_claim': 'Biles competed in the women’s gymnastics qualifications.',\n",
       "    'source_passage': '\\n        Simone Biles’ Olympic return is off to a sparkling start at Paris 2024 as the Americans competed in women’s qualifying Sunday (28 July). The U.S. is well in front with a total team score of 172.296, followed by Italy some 5.435 points back at 166.861. The People’s Republic of China is third with a 166.628.\\n    \\n         Reigning world silver medallists Brazil competed in the day’s final subdivision and sit fourth (166.499). In the all-around, Biles, the 2016 gold medallist, scored 59.566 ahead of 2022 world all-around champion Rebeca Andrade (57.700).'},\n",
       "   {'score': 0.9983009036513977,\n",
       "    'summary_claim': \"Biles overcame a previous struggle with the 'twisties' that led to her withdrawal from events at the Tokyo 2020 Olympics.\",\n",
       "    'source_passage': 'Three years ago, the American withdrew from the women’s team final and four subsequent individual finals at Tokyo 2020 to prioritize her mental health as she dealt with the ‘twisties.’ That seemed like a distant memory Sunday.\\n    \\n         Biles, 27, entered Bercy Arena to massive applause, looking relaxed as she smiled and waved to the audience. She looked even more relaxed on the balance beam where in the span of some 79 seconds, she put on a clinic, executing a near flawless routine that included a two layout stepout series and a full-twisting double back dismount. Biles earned a 14.733 for the routine.\\n    \\n        '},\n",
       "   {'score': 0.9821975510567427,\n",
       "    'summary_claim': 'Biles dazzled with strong performances on all apparatus.',\n",
       "    'source_passage': 'DOCUMENT'},\n",
       "   {'score': 0.9991946243681014,\n",
       "    'summary_claim': 'The U.S. team secured a commanding lead in the qualifications.',\n",
       "    'source_passage': '\\n        Simone Biles’ Olympic return is off to a sparkling start at Paris 2024 as the Americans competed in women’s qualifying Sunday (28 July). The U.S. is well in front with a total team score of 172.296, followed by Italy some 5.435 points back at 166.861. The People’s Republic of China is third with a 166.628.\\n    \\n         Reigning world silver medallists Brazil competed in the day’s final subdivision and sit fourth (166.499). In the all-around, Biles, the 2016 gold medallist, scored 59.566 ahead of 2022 world all-around champion Rebeca Andrade (57.700).'},\n",
       "   {'score': 0.9942512132693082,\n",
       "    'summary_claim': 'Her routines showcased her resilience and skill.',\n",
       "    'source_passage': 'DOCUMENT'},\n",
       "   {'score': -0.03039351903134957,\n",
       "    'summary_claim': 'Her routines drew enthusiastic support from a star-studded audience.',\n",
       "    'source_passage': 'Three years ago, the American withdrew from the women’s team final and four subsequent individual finals at Tokyo 2020 to prioritize her mental health as she dealt with the ‘twisties.’'}]}]"
      ]
     },
     "execution_count": 1,
     "metadata": {},
     "output_type": "execute_result"
    }
   ],
   "source": [
    "# from metric.FENICE import FENICE\n",
    "# fenice = FENICE()\n",
    "\n",
    "\n",
    "\n",
    "# document = '''\n",
    "# Simone Biles’ Olympic return is off to a sparkling start at Paris 2024 as the Americans competed in women’s qualifying Sunday (28 July). The U.S. is well in front with a total team score of 172.296, followed by Italy some 5.435 points back at 166.861. The People’s Republic of China is third with a 166.628.\n",
    "\n",
    "# Reigning world silver medallists Brazil competed in the day’s final subdivision and sit fourth (166.499). In the all-around, Biles, the 2016 gold medallist, scored 59.566 ahead of 2022 world all-around champion Rebeca Andrade (57.700). Reigning champ Suni Lee was third, posting a 56.132. Jordan Chiles earned the fourth highest score at 56.065 but won’t advance to Thursday’s (1 August) all-around final due to two-per-country restrictions. Algeria’s Kaylia Nemour rounds out the top five.\n",
    "\n",
    "# Three years ago, the American withdrew from the women’s team final and four subsequent individual finals at Tokyo 2020 to prioritize her mental health as she dealt with the ‘twisties.’ That seemed like a distant memory Sunday.\n",
    "\n",
    "# Biles, 27, entered Bercy Arena to massive applause, looking relaxed as she smiled and waved to the audience. She looked even more relaxed on the balance beam where in the span of some 79 seconds, she put on a clinic, executing a near flawless routine that included a two layout stepout series and a full-twisting double back dismount. Biles earned a 14.733 for the routine.\n",
    "\n",
    "# In the warm-up for the second rotation on the floor exercise, Biles appeared to tweek her left ankle on her Biles I (double layout half out). When she took to the mat for her competitive routine, her ankle was heavily taped. She delivered a solid, if not bouncy, routine on the event for a 14.666.\n",
    "\n",
    "# As she came off the podium, coach Cecile Landi, a 1996 Olympian for France, asked if she was OK. Biles confirmed she was. But the uncertainty continued through the vault warm-up where at one point she crawled nearly two-thirds of the way back to the starting position before hopping on her right leg.\n",
    "\n",
    "# Later, Biles could be seen waving to her parents, Ron and Nellie, as well as sharing a laugh and several smiles with Landi. When it came time for competition, there was no hint of an issue as she boomed her trademark Yurchenko double pike to the rafters, needing several steps backward to control it. She earned a massive 15.800.\n",
    "\n",
    "# “She felt a little something in her calf. That’s all,” Landi told reporters afterward, adding that Biles was not thinking of leaving the competition. “Never in her mind.” The injury, Landi explained, had popped up a few weeks ago but had subsided in the training leading to Paris. “It felt better at the end [of competition today],” she said later. “On bars, it started to feel better.”\n",
    "\n",
    "# Biles closed out her spectacular on the uneven bars with a hit set and a 14.433, the relief pouring out through her megawatt smile. She embraced coach Laurent Landi before stopping near a scoreboard to soak in the moment. The crowd roared, acknowledging her spectacular return. Before leaving the podium, she blew kisses and waved to her adoring fans.\n",
    "\n",
    "# The American is now set for five of six medal rounds, advancing with the team, in the all-around, and on the vault, beam and floor exercise. “It was pretty amazing. 59.5, and four-for-four. Not perfect,” Landi assessed her pupil’s performance. “She still can improve even.”\n",
    "# '''\n",
    "\n",
    "# summary = 'Simone Biles made a triumphant return to the Olympic stage at the Paris 2024 Games, competing in the women’s gymnastics qualifications. Overcoming a previous struggle with the “twisties” that led to her withdrawal from events at the Tokyo 2020 Olympics, Biles dazzled with strong performances on all apparatus, helping the U.S. team secure a commanding lead in the qualifications. Her routines, including a near-flawless balance beam performance and a powerful Yurchenko double pike vault, showcased her resilience and skill, drawing enthusiastic support from a star-studded audience'\n",
    "\n",
    "# batch = [\n",
    "#     {\"document\": document, \"summary\": summary}\n",
    "# ]\n",
    "\n",
    "# results = fenice.score_batch(batch)\n",
    "# print(results)\n",
    "\n",
    "# [{'score': 0.8484095427307433, 'alignments': [{'score': 0.9968091815244406, 'summary_claim': 'Simone Biles made a triumphant return to the Olympic stage at the Paris 2024 Games.', 'source_passage': '\\n        Simone Biles’ Olympic return is off to a sparkling start at Paris 2024 as the Americans competed in women’s qualifying Sunday (28 July). The U.S. is well in front with a total team score of 172.296, followed by Italy some 5.435 points back at 166.861. The People’s Republic of China is third with a 166.628.\\n    \\n         Reigning world silver medallists Brazil competed in the day’s final subdivision and sit fourth (166.499). In the all-around, Biles, the 2016 gold medallist, scored 59.566 ahead of 2022 world all-around champion Rebeca Andrade (57.700).'}, {'score': 0.9985068442765623, 'summary_claim': 'Biles competed in the women’s gymnastics qualifications.', 'source_passage': '\\n        Simone Biles’ Olympic return is off to a sparkling start at Paris 2024 as the Americans competed in women’s qualifying Sunday (28 July). The U.S. is well in front with a total team score of 172.296, followed by Italy some 5.435 points back at 166.861. The People’s Republic of China is third with a 166.628.\\n    \\n         Reigning world silver medallists Brazil competed in the day’s final subdivision and sit fourth (166.499). In the all-around, Biles, the 2016 gold medallist, scored 59.566 ahead of 2022 world all-around champion Rebeca Andrade (57.700).'}, {'score': 0.9983009036513977, 'summary_claim': \"Biles overcame a previous struggle with the 'twisties' that led to her withdrawal from events at the Tokyo 2020 Olympics.\", 'source_passage': 'Three years ago, the American withdrew from the women’s team final and four subsequent individual finals at Tokyo 2020 to prioritize her mental health as she dealt with the ‘twisties.’ That seemed like a distant memory Sunday.\\n    \\n         Biles, 27, entered Bercy Arena to massive applause, looking relaxed as she smiled and waved to the audience. She looked even more relaxed on the balance beam where in the span of some 79 seconds, she put on a clinic, executing a near flawless routine that included a two layout stepout series and a full-twisting double back dismount. Biles earned a 14.733 for the routine.\\n    \\n        '}, {'score': 0.9821975510567427, 'summary_claim': 'Biles dazzled with strong performances on all apparatus.', 'source_passage': 'DOCUMENT'}, {'score': 0.9991946243681014, 'summary_claim': 'The U.S. team secured a commanding lead in the qualifications.', 'source_passage': '\\n        Simone Biles’ Olympic return is off to a sparkling start at Paris 2024 as the Americans competed in women’s qualifying Sunday (28 July). The U.S. is well in front with a total team score of 172.296, followed by Italy some 5.435 points back at 166.861. The People’s Republic of China is third with a 166.628.\\n    \\n         Reigning world silver medallists Brazil competed in the day’s final subdivision and sit fourth (166.499). In the all-around, Biles, the 2016 gold medallist, scored 59.566 ahead of 2022 world all-around champion Rebeca Andrade (57.700).'}, {'score': 0.9942512132693082, 'summary_claim': 'Her routines showcased her resilience and skill.', 'source_passage': 'DOCUMENT'}, {'score': -0.03039351903134957, 'summary_claim': 'Her routines drew enthusiastic support from a star-studded audience.', 'source_passage': 'Three years ago, the American withdrew from the women’s team final and four subsequent individual finals at Tokyo 2020 to prioritize her mental health as she dealt with the ‘twisties.’'}]}]\n"
   ]
  },
  {
   "cell_type": "code",
   "execution_count": null,
   "metadata": {},
   "outputs": [],
   "source": [
    "### 3개째 지우는중"
   ]
  },
  {
   "cell_type": "code",
   "execution_count": null,
   "metadata": {},
   "outputs": [],
   "source": [
    "import os\n",
    "os.environ[\"CUDA_VISIBLE_DEVICES\"] = \"0\"\n",
    "import json\n",
    "from metric.FENICE import FENICE\n",
    "import time\n",
    "fenice = FENICE()\n",
    "\n",
    "\n",
    "# Load the xsumfaith.json file\n",
    "with open('./xsumfaith_short.json', 'r', encoding=\"utf-8\") as f:\n",
    "    xsumfaith_data = json.load(f)\n",
    "xsumfaith_data = xsumfaith_data\n",
    "# JSON 파일을 새로 생성 (초기화)\n",
    "with open('./fenice_original.json', 'w', encoding=\"utf-8\") as f:\n",
    "    f.write(\"[\\n\")  # JSON 배열 시작\n",
    "# Compute the scores for each document-summary pair\n",
    "for i, item in enumerate(xsumfaith_data):\n",
    "    batch = [{\"document\": item[\"document\"], \"summary\": item[\"claim\"]}]\n",
    "    result = fenice.score_batch(batch)\n",
    "\n",
    "    # 저장할 데이터 구조\n",
    "    result_entry = {\n",
    "        \"score\": result[0][\"score\"],\n",
    "        \"label\": item[\"label\"],\n",
    "        \"document\": item[\"document\"],\n",
    "        \"summary\": item[\"claim\"]\n",
    "    }\n",
    "\n",
    "    # JSON 파일에 한 줄씩 추가 (마지막 요소인지 확인하여 쉼표 처리)\n",
    "    with open('./fenice_original.json', 'a', encoding=\"utf-8\") as f:\n",
    "        json.dump(result_entry, f, indent=4)\n",
    "        if i < len(xsumfaith_data) - 1:  # 마지막 요소가 아니면 쉼표 추가\n",
    "            f.write(\",\\n\")\n",
    "\n",
    "# JSON 파일 닫기 (배열 닫기)\n",
    "with open('./fenice_original.json', 'a', encoding=\"utf-8\") as f:\n",
    "    f.write(\"\\n]\")\n",
    "\n",
    "print(\"Results saved to fenice_original.json\")\n"
   ]
  },
  {
   "cell_type": "code",
   "execution_count": null,
   "metadata": {},
   "outputs": [],
   "source": [
    "import os\n",
    "os.environ[\"CUDA_VISIBLE_DEVICES\"] = \"1\"\n",
    "import json\n",
    "from metric.FENICE import FENICE\n",
    "import time\n",
    "fenice = FENICE()\n",
    "\n",
    "\n",
    "# Load the xsumfaith.json file\n",
    "with open('./frank_short.json', 'r', encoding=\"utf-8\") as f:\n",
    "    frank_data = json.load(f)\n",
    "frank_data = frank_data[591:]\n",
    "# JSON 파일을 새로 생성 (초기화)\n",
    "# with open('../results/frank/fenice_original.json', 'w', encoding=\"utf-8\") as f:\n",
    "#     f.write(\"[\\n\")  # JSON 배열 시작\n",
    "# Compute the scores for each document-summary pair\n",
    "for i, item in enumerate(frank_data):\n",
    "    batch = [{\"document\": item[\"document\"], \"summary\": item[\"claim\"]}]\n",
    "    result = fenice.score_batch(batch)\n",
    "\n",
    "    # 저장할 데이터 구조\n",
    "    result_entry = {\n",
    "        \"score\": result[0][\"score\"],\n",
    "        \"label\": item[\"label\"],\n",
    "        \"document\": item[\"document\"],\n",
    "        \"summary\": item[\"claim\"]\n",
    "    }\n",
    "\n",
    "    # JSON 파일에 한 줄씩 추가 (마지막 요소인지 확인하여 쉼표 처리)\n",
    "    with open('../results/frank/fenice_original.json', 'a', encoding=\"utf-8\") as f:\n",
    "        json.dump(result_entry, f, indent=4)\n",
    "        if i < len(frank_data) - 1:  # 마지막 요소가 아니면 쉼표 추가\n",
    "            f.write(\",\\n\")\n",
    "\n",
    "# JSON 파일 닫기 (배열 닫기)\n",
    "with open('../results/frank/fenice_original.json', 'a', encoding=\"utf-8\") as f:\n",
    "    f.write(\"\\n]\")\n",
    "\n",
    "print(\"Results saved to fenice_original.json\")\n"
   ]
  },
  {
   "cell_type": "code",
   "execution_count": null,
   "metadata": {},
   "outputs": [],
   "source": [
    "%%capture\n",
    "import os\n",
    "os.environ[\"CUDA_VISIBLE_DEVICES\"] = \"1\"\n",
    "import json\n",
    "from metric.FENICE import FENICE\n",
    "import time\n",
    "fenice = FENICE()\n",
    "\n",
    "\n",
    "# Load the xsumfaith.json file\n",
    "with open('./cogensumm_short.json', 'r', encoding=\"utf-8\") as f:\n",
    "    cogensumm_data = json.load(f)\n",
    "cogensumm_data = cogensumm_data[232:]\n",
    "# JSON 파일을 새로 생성 (초기화)\n",
    "# with open('../results/cogensumm/fenice_original.json', 'w', encoding=\"utf-8\") as f:\n",
    "#     f.write(\"[\\n\")  # JSON 배열 시작\n",
    "# Compute the scores for each document-summary pair\n",
    "for i, item in enumerate(cogensumm_data):\n",
    "    batch = [{\"document\": item[\"document\"], \"summary\": item[\"claim\"]}]\n",
    "    result = fenice.score_batch(batch)\n",
    "\n",
    "    # 저장할 데이터 구조\n",
    "    result_entry = {\n",
    "        \"score\": result[0][\"score\"],\n",
    "        \"label\": item[\"label\"],\n",
    "        \"document\": item[\"document\"],\n",
    "        \"summary\": item[\"claim\"]\n",
    "    }\n",
    "\n",
    "    # JSON 파일에 한 줄씩 추가 (마지막 요소인지 확인하여 쉼표 처리)\n",
    "    with open('../results/cogensumm/fenice_original.json', 'a', encoding=\"utf-8\") as f:\n",
    "        json.dump(result_entry, f, indent=4)\n",
    "        if i < len(cogensumm_data) - 1:  # 마지막 요소가 아니면 쉼표 추가\n",
    "            f.write(\",\\n\")\n",
    "\n",
    "# JSON 파일 닫기 (배열 닫기)\n",
    "with open('../results/cogensumm/fenice_original.json', 'a', encoding=\"utf-8\") as f:\n",
    "    f.write(\"\\n]\")\n",
    "\n",
    "print(\"Results saved to fenice_original.json\")\n"
   ]
  },
  {
   "cell_type": "code",
   "execution_count": 1,
   "metadata": {},
   "outputs": [],
   "source": [
    "%%capture\n",
    "import os\n",
    "os.environ[\"CUDA_VISIBLE_DEVICES\"] = \"0\"\n",
    "import json\n",
    "from metric.FENICE import FENICE\n",
    "import time\n",
    "fenice = FENICE()\n",
    "\n",
    "\n",
    "# Load the xsumfaith.json file\n",
    "with open('./factcc_short.json', 'r', encoding=\"utf-8\") as f:\n",
    "    factcc_data = json.load(f)\n",
    "factcc_data = factcc_data#[66:]\n",
    "# JSON 파일을 새로 생성 (초기화)\n",
    "with open('../results/factcc/fenice_original.json', 'w', encoding=\"utf-8\") as f:\n",
    "    f.write(\"[\\n\")  # JSON 배열 시작\n",
    "# Compute the scores for each document-summary pair\n",
    "for i, item in enumerate(factcc_data):\n",
    "    batch = [{\"document\": item[\"document\"], \"summary\": item[\"claim\"]}]\n",
    "    result = fenice.score_batch(batch)\n",
    "\n",
    "    # 저장할 데이터 구조\n",
    "    result_entry = {\n",
    "        \"score\": result[0][\"score\"],\n",
    "        \"label\": item[\"label\"],\n",
    "        \"document\": item[\"document\"],\n",
    "        \"summary\": item[\"claim\"]\n",
    "    }\n",
    "\n",
    "    # JSON 파일에 한 줄씩 추가 (마지막 요소인지 확인하여 쉼표 처리)\n",
    "    with open('../results/factcc/fenice_original.json', 'a', encoding=\"utf-8\") as f:\n",
    "        json.dump(result_entry, f, indent=4)\n",
    "        if i < len(factcc_data) - 1:  # 마지막 요소가 아니면 쉼표 추가\n",
    "            f.write(\",\\n\")\n",
    "\n",
    "# JSON 파일 닫기 (배열 닫기)\n",
    "with open('../results/factcc/fenice_original.json', 'a', encoding=\"utf-8\") as f:\n",
    "    f.write(\"\\n]\")\n",
    "\n",
    "print(\"Results saved to fenice_original.json\")\n"
   ]
  }
 ],
 "metadata": {
  "kernelspec": {
   "display_name": "base",
   "language": "python",
   "name": "python3"
  },
  "language_info": {
   "codemirror_mode": {
    "name": "ipython",
    "version": 3
   },
   "file_extension": ".py",
   "mimetype": "text/x-python",
   "name": "python",
   "nbconvert_exporter": "python",
   "pygments_lexer": "ipython3",
   "version": "3.11.10"
  }
 },
 "nbformat": 4,
 "nbformat_minor": 2
}
