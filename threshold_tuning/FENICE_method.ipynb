{
 "cells": [
  {
   "cell_type": "code",
   "execution_count": 4,
   "id": "1ea84588",
   "metadata": {},
   "outputs": [
    {
     "name": "stdout",
     "output_type": "stream",
     "text": [
      "⚠️ JSON decode error: fenice_wr0p3_wb0p7_wcc1_wc1_wm0_ww1_k1.json\n",
      "⚠️ JSON decode error: fenice_wr0p7_wb0p3_wcc1_wc1_wm0_ww1_k1.json\n",
      "⚠️ JSON decode error: fenice_wr0p5_wb0p5_wcc1_wc1_wm0_ww1_k2.json\n",
      "⚠️ JSON decode error: fenice_wr1_wb0_wcc1_wc1_wm0_ww1_k1.json\n",
      "⚠️ JSON decode error: fenice_wr0p5_wb0p5_wcc1_wc1_wm0_ww1_k3.json\n",
      "✅ 결과가 'xsum_FENICE_tuning_method.txt'에 test_bacc 기준 내림차순으로 저장되었습니다.\n"
     ]
    }
   ],
   "source": [
    "import os\n",
    "import json\n",
    "import numpy as np\n",
    "from sklearn.metrics import balanced_accuracy_score\n",
    "\n",
    "def choose_best_threshold(labels, scores):\n",
    "    best_bacc = 0.0\n",
    "    best_thresh = 0.0\n",
    "    thresholds = [np.percentile(scores, p) for p in np.arange(0, 100, 0.2)]\n",
    "\n",
    "    for thresh in thresholds:\n",
    "        preds = [1 if score > thresh else 0 for score in scores]\n",
    "        bacc = balanced_accuracy_score(labels, preds)\n",
    "        if bacc >= best_bacc:\n",
    "            best_bacc = bacc\n",
    "            best_thresh = thresh\n",
    "\n",
    "    return best_thresh, best_bacc\n",
    "\n",
    "# 평가 대상 디렉토리 및 출력 파일\n",
    "input_dir = \"../results/aggre_xsum\"\n",
    "output_file = \"xsum_FENICE_tuning_method.txt\"\n",
    "\n",
    "result_entries = []\n",
    "\n",
    "# 모든 JSON 파일 처리\n",
    "for filename in os.listdir(input_dir):\n",
    "    if not filename.endswith(\".json\"):\n",
    "        continue\n",
    "\n",
    "    file_path = os.path.join(input_dir, filename)\n",
    "    try:\n",
    "        with open(file_path, \"r\", encoding=\"utf-8\") as f:\n",
    "            data = json.load(f)\n",
    "    except json.JSONDecodeError:\n",
    "        print(f\"⚠️ JSON decode error: {filename}\")\n",
    "        continue\n",
    "\n",
    "    val_scores = [item[\"score\"] for item in data if item.get(\"cut\") == \"val\"]\n",
    "    val_labels = [item[\"label\"] for item in data if item.get(\"cut\") == \"val\"]\n",
    "    test_scores = [item[\"score\"] for item in data if item.get(\"cut\") == \"test\"]\n",
    "    test_labels = [item[\"label\"] for item in data if item.get(\"cut\") == \"test\"]\n",
    "\n",
    "    if not val_scores or not test_scores:\n",
    "        print(f\"⚠️ Skipped due to missing val/test in: {filename}\")\n",
    "        continue\n",
    "\n",
    "    threshold, val_bacc = choose_best_threshold(val_labels, val_scores)\n",
    "    test_preds = [1 if s > threshold else 0 for s in test_scores]\n",
    "    test_bacc = balanced_accuracy_score(test_labels, test_preds)\n",
    "\n",
    "    result_entries.append({\n",
    "        \"filename\": filename,\n",
    "        \"threshold\": threshold,\n",
    "        \"val_bacc\": val_bacc,\n",
    "        \"test_bacc\": test_bacc\n",
    "    })\n",
    "\n",
    "# test_bacc 기준으로 내림차순 정렬\n",
    "result_entries.sort(key=lambda x: x[\"test_bacc\"], reverse=True)\n",
    "\n",
    "# 결과 저장\n",
    "with open(output_file, \"w\", encoding=\"utf-8\") as fout:\n",
    "    for entry in result_entries:\n",
    "        fout.write(f\"{entry['filename']}\\n\")\n",
    "        fout.write(f\"  Best Threshold (val): {entry['threshold']:.4f}\\n\")\n",
    "        fout.write(f\"  Val Balanced Accuracy: {entry['val_bacc']:.4f}\\n\")\n",
    "        fout.write(f\"  Test Balanced Accuracy: {entry['test_bacc']:.4f}\\n\\n\")\n",
    "\n",
    "print(f\"✅ 결과가 '{output_file}'에 test_bacc 기준 내림차순으로 저장되었습니다.\")\n"
   ]
  }
 ],
 "metadata": {
  "kernelspec": {
   "display_name": "FIZZvenv",
   "language": "python",
   "name": "python3"
  },
  "language_info": {
   "codemirror_mode": {
    "name": "ipython",
    "version": 3
   },
   "file_extension": ".py",
   "mimetype": "text/x-python",
   "name": "python",
   "nbconvert_exporter": "python",
   "pygments_lexer": "ipython3",
   "version": "3.11.10"
  }
 },
 "nbformat": 4,
 "nbformat_minor": 5
}
